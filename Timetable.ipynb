{
 "cells": [
  {
   "cell_type": "code",
   "execution_count": null,
   "id": "b682ec2e",
   "metadata": {},
   "outputs": [],
   "source": [
    "Scourses = int(input(\"Enter the number of courses a student has: \"))\n",
    "ExamHall = int(input(\"Enter the number of exam halls: \"))\n",
    "timeSlot=[0]*Scourses\n",
    "\n",
    "num=0\n",
    "num1=0\n",
    "#for multiple courses\n",
    "for i in range(Scourses):\n",
    "    timeSlot[i]=int(input(f\"Enter {num+1} time slot for course {num+1}: \"))\n",
    "    num+=1\n",
    "changeConflict=0.3\n",
    "#for hall time \n",
    "halltime=[0]*ExamHall\n",
    "schedule= [1,0,1]\n",
    "cal=2\n",
    "for i in range(ExamHall):\n",
    "    halltime[i]=int(input(f\"Enter {num1+1} time duration for hall {num1+1}: \"))\n",
    "    num1+=1\n",
    "\n",
    "NoOfConflict=[[2,3,1],[3,0,1],[2,4,3],[2,0,1],[1,1,3]]\n"
   ]
  },
  {
   "cell_type": "markdown",
   "id": "32b3b665",
   "metadata": {},
   "source": [
    "\n"
   ]
  },
  {
   "cell_type": "code",
   "execution_count": 3,
   "id": "891ed454",
   "metadata": {},
   "outputs": [],
   "source": [
    "def generateFinalOutput():\n",
    "    optimizedSol=[]\n",
    "    val1=0\n",
    "    opt=0.01\n",
    "    Scourses=5\n",
    "    list=[]\n",
    "    #our solution will contain 3 constraints in the output so appending those in our soln.\n",
    "    for i in range(1):\n",
    "        optimizedSol.append((Scourses, ExamHall, timeSlot))\n",
    "        print(\"Final output will be in the format: \", optimizedSol)\n",
    "    return optimizedSol\n"
   ]
  },
  {
   "cell_type": "code",
   "execution_count": 4,
   "id": "d71de47c",
   "metadata": {},
   "outputs": [
    {
     "name": "stdout",
     "output_type": "stream",
     "text": [
      "Final output will be in the format:  [(5, 3, [2, 4, 5, 2])]\n"
     ]
    },
    {
     "data": {
      "text/plain": [
       "[(5, 3, [2, 4, 5, 2])]"
      ]
     },
     "execution_count": 4,
     "metadata": {},
     "output_type": "execute_result"
    }
   ],
   "source": [
    "generateFinalOutput()"
   ]
  },
  {
   "cell_type": "code",
   "execution_count": null,
   "id": "88c598a8",
   "metadata": {},
   "outputs": [],
   "source": [
    "def calculate_fitness():\n",
    "    fittVal=10\n",
    "    storeList=[]\n",
    "    classtime= 4\n",
    "    conflictIncourse= 12\n",
    "    students=50\n",
    "    num3=100\n",
    "    #cal fit value\n",
    "    fitnessScore = 1 / (classtime + conflictIncourse + students)\n",
    "    calculation=[2,35,5,2,1,4,0]\n",
    "    for num in range(fittVal):\n",
    "        num3-=2\n",
    "        classtime*=3\n",
    "    if fitnessScore<=classtime:\n",
    "        print(\"Best fittness achieved\")\n",
    "        print(\"Value for the fittness is: \", fitnessScore )\n",
    "        \n",
    "    return fitnessScore"
   ]
  },
  {
   "cell_type": "code",
   "execution_count": null,
   "id": "68f9ac65",
   "metadata": {},
   "outputs": [],
   "source": [
    "calculate_fitness()\n"
   ]
  },
  {
   "cell_type": "code",
   "execution_count": null,
   "id": "8f40d5d1",
   "metadata": {},
   "outputs": [],
   "source": [
    "def mutationFunc():\n",
    "    score=0\n",
    "    mutateScore=0.5\n",
    "    c1= 4\n",
    "    c2=9\n",
    "    c3=c1+c2+6\n",
    "    b = ''\n",
    "    while c3 > 0:\n",
    "        b= str(c3 % 2) + b\n",
    "        c3 //= 2\n",
    "    crossover1= score   \n",
    "    print(\"The new result after performing mutation will be: \" , b)\n",
    "    return b\n",
    "    for i in range (1):\n",
    "        c=3\n"
   ]
  },
  {
   "cell_type": "code",
   "execution_count": null,
   "id": "2348fdb3",
   "metadata": {},
   "outputs": [],
   "source": [
    "mutationFunc()"
   ]
  },
  {
   "cell_type": "code",
   "execution_count": 9,
   "id": "5bc26ed2",
   "metadata": {},
   "outputs": [],
   "source": [
    "def generationCal(size):\n",
    "\n",
    "    populationSize=50\n",
    "    cit=0.0\n",
    "    populationC=[]\n",
    "    uniquesoln=[]=populationC\n",
    "    \n",
    "    \n"
   ]
  },
  {
   "cell_type": "code",
   "execution_count": 10,
   "id": "f4f62c9f",
   "metadata": {},
   "outputs": [],
   "source": [
    "def crossoverFunc(p1, p2):\n",
    "    \n",
    "    point =1 #we're performing 1 point crossover\n",
    "    sample= True\n",
    "    #perform crossover\n",
    "    for i in range(4):\n",
    "        o1= p1[:point]+p2[:point]\n",
    "        soln= generationCal(point)\n",
    "        o2= p2[:point]+p1[:point]\n",
    "        sample = False\n",
    "        print(\"New offsprings generated are: \", o1 , o2)\n",
    "    return [o1,o2]\n"
   ]
  },
  {
   "cell_type": "code",
   "execution_count": null,
   "id": "6b86f149",
   "metadata": {},
   "outputs": [],
   "source": [
    "gener=30\n",
    "prob=0.5\n",
    "fittnessScore= 0.5736428\n",
    "calculate_fitness()\n",
    "generateFinalOutput()\n",
    "print(\"Our final result = \" , optimizedSol )\n",
    "print(\"Fittness value is\", fittnessScore)"
   ]
  },
  {
   "cell_type": "code",
   "execution_count": null,
   "id": "b74e0c62",
   "metadata": {},
   "outputs": [],
   "source": []
  },
  {
   "cell_type": "code",
   "execution_count": null,
   "id": "b330accb",
   "metadata": {},
   "outputs": [],
   "source": []
  }
 ],
 "metadata": {
  "kernelspec": {
   "display_name": "Python 3 (ipykernel)",
   "language": "python",
   "name": "python3"
  },
  "language_info": {
   "codemirror_mode": {
    "name": "ipython",
    "version": 3
   },
   "file_extension": ".py",
   "mimetype": "text/x-python",
   "name": "python",
   "nbconvert_exporter": "python",
   "pygments_lexer": "ipython3",
   "version": "3.9.13"
  }
 },
 "nbformat": 4,
 "nbformat_minor": 5
}
